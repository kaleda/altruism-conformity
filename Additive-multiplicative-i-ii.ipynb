{
 "cells": [
  {
   "cell_type": "markdown",
   "metadata": {},
   "source": [
    "These simulations determine when invasion by an allele, A, that corresponds to a higher preference for altruism than the resident allele, a, occurs in the additive and/or multiplicative versions of parent-to-offspring altruism models (Models I and II), in \"Oblique Transmission, Conformity, and Preference in the Evolution of Altruism.\""
   ]
  },
  {
   "cell_type": "code",
   "execution_count": 53,
   "metadata": {},
   "outputs": [],
   "source": [
    "%matplotlib inline\n",
    "import matplotlib.pyplot as plt\n",
    "import numpy as np\n",
    "import seaborn as sns\n",
    "sns.set_context('paper', font_scale=1.3) "
   ]
  },
  {
   "cell_type": "code",
   "execution_count": 54,
   "metadata": {},
   "outputs": [],
   "source": [
    "β = np.linspace(0,10,1001)  # Fitness benefit to recipients of altruism\n",
    "γ = np.linspace(0,1,101)    # Fitness cost to altruists\n",
    "b_a = np.linspace(0,1,101)  # Preference for altruism of carriers of allele a\n",
    "b_A = np.linspace(0,1,101)  # Preference for altruism of carriers of allele A"
   ]
  },
  {
   "cell_type": "code",
   "execution_count": 55,
   "metadata": {},
   "outputs": [],
   "source": [
    "# Adjust at the bounds: β, γ, b_a, b_A > 0 and γ, b_a, b_A < 1 \n",
    "β[0] = 1e-5\n",
    "γ[0] = 1e-5\n",
    "b_a[0] = 1e-5\n",
    "b_A[0] = 1e-5\n",
    "\n",
    "γ[len(γ)-1] = 1-1e-5\n",
    "b_a[len(b_a)-1] = 1-1e-5\n",
    "b_A[len(b_A)-1] = 1-1e-5"
   ]
  },
  {
   "cell_type": "code",
   "execution_count": 56,
   "metadata": {},
   "outputs": [
    {
     "name": "stdout",
     "output_type": "stream",
     "text": [
      "31.428333062878693 percent invaded in the additive, but not multiplicative case.\n",
      "0.0 percent invaded in the multiplicative, but not additive case.\n"
     ]
    }
   ],
   "source": [
    "inv_add_not_mult = 0 #Counts instances of invasion by allele A in additive, but not multiplicative case\n",
    "inv_mult_not_add = 0 #Counts instances of invasion by allele A in multiplicative, but not additive case\n",
    "total = 0 #Total number of runs \n",
    "\n",
    "for β_ in β:\n",
    "    for γ_ in γ:\n",
    "        for b_a_ in b_a:\n",
    "            for b_A_ in b_A: \n",
    "                if(b_A_ > b_a_):\n",
    "                    # Find the equilibrium value, u, for the additive case \n",
    "                    A = β_\n",
    "                    B = 1-(γ_*b_a_)-(β_*b_a_)\n",
    "                    C = -b_a_*(1-γ_)\n",
    "                    \n",
    "                    root1 = (-B + np.sqrt(B**2 - 4*A*C)) / (2*A)\n",
    "                    root2 = (-B - np.sqrt(B**2 - 4*A*C)) / (2*A)\n",
    "                    # Only one of root1 or root2 is positive since root1*root2 = C/A < 0. \n",
    "                    \n",
    "                    # Note: make sure that rounding errors do not make u = 0. \n",
    "                    # For example, if 1e-20 is used during adjustment at bounds, this may happen.\n",
    "                    if (root1 == 0) or (root2 == 0):\n",
    "                        print(\"Error\")\n",
    "                    if root1 > 0: \n",
    "                        u = root1\n",
    "                    else: \n",
    "                        u = root2\n",
    "                    \n",
    "                    # For additive case, invasion by allele A occurs when this is negative\n",
    "                    additive = (b_A_-b_a_)*((u*β_+1)*(γ_-(β_/2))+ (1/2)*β_*γ_*(1-b_A_) - γ_**2*b_a_)\n",
    "                    \n",
    "                    # For multiplicative case, invasion by allele A occurs when this is negative\n",
    "                    multiplicative = (b_A_-b_a_)*(γ_*(1-(γ_*b_a_)) + β_*(1-γ_)*((γ_*b_a_) - 1/2)) \n",
    "                    \n",
    "                    if additive < 0 and multiplicative > 0:\n",
    "                        inv_add_not_mult += 1\n",
    "                    if additive > 0 and multiplicative < 0:\n",
    "                        inv_mult_not_add += 1\n",
    "                    total += 1\n",
    "\n",
    "print(inv_add_not_mult/total*100, \"percent invaded in the additive, but not multiplicative case.\")\n",
    "print(inv_mult_not_add/total*100, \"percent invaded in the multiplicative, but not additive case.\")"
   ]
  },
  {
   "cell_type": "code",
   "execution_count": null,
   "metadata": {},
   "outputs": [],
   "source": []
  }
 ],
 "metadata": {
  "kernelspec": {
   "display_name": "Python 3",
   "language": "python",
   "name": "python3"
  },
  "language_info": {
   "codemirror_mode": {
    "name": "ipython",
    "version": 3
   },
   "file_extension": ".py",
   "mimetype": "text/x-python",
   "name": "python",
   "nbconvert_exporter": "python",
   "pygments_lexer": "ipython3",
   "version": "3.7.6"
  }
 },
 "nbformat": 4,
 "nbformat_minor": 4
}
